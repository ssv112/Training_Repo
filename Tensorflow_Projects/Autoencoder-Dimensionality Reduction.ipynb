{
 "cells": [
  {
   "cell_type": "markdown",
   "metadata": {},
   "source": [
    "\n",
    "\n",
    "# Autoencoder - Reducing Dimensionality from 17 to 2 and then visualizing the results"
   ]
  },
  {
   "cell_type": "markdown",
   "metadata": {},
   "source": [
    "\n",
    "\n",
    "**Importing Necessary Libraries"
   ]
  },
  {
   "cell_type": "code",
   "execution_count": 55,
   "metadata": {},
   "outputs": [],
   "source": [
    "import numpy as np\n",
    "import pandas as pd\n",
    "import seaborn as sns\n",
    "import matplotlib.pyplot as plt"
   ]
  },
  {
   "cell_type": "markdown",
   "metadata": {},
   "source": [
    "## The Data\n",
    "\n",
    " In the table is the average consumption of 17 types of food in grams per person per week for every country in the UK.\n",
    "\n",
    "The table shows some interesting variations across different food types, but overall differences aren't so notable. \n",
    "\n",
    "**reading in the data**"
   ]
  },
  {
   "cell_type": "code",
   "execution_count": 2,
   "metadata": {},
   "outputs": [],
   "source": [
    "df = pd.read_csv('../DATA/UK_foods.csv',index_col='Unnamed: 0')"
   ]
  },
  {
   "cell_type": "code",
   "execution_count": 3,
   "metadata": {},
   "outputs": [
    {
     "data": {
      "text/html": [
       "<div>\n",
       "<style scoped>\n",
       "    .dataframe tbody tr th:only-of-type {\n",
       "        vertical-align: middle;\n",
       "    }\n",
       "\n",
       "    .dataframe tbody tr th {\n",
       "        vertical-align: top;\n",
       "    }\n",
       "\n",
       "    .dataframe thead th {\n",
       "        text-align: right;\n",
       "    }\n",
       "</style>\n",
       "<table border=\"1\" class=\"dataframe\">\n",
       "  <thead>\n",
       "    <tr style=\"text-align: right;\">\n",
       "      <th></th>\n",
       "      <th>England</th>\n",
       "      <th>Wales</th>\n",
       "      <th>Scotland</th>\n",
       "      <th>N.Ireland</th>\n",
       "    </tr>\n",
       "  </thead>\n",
       "  <tbody>\n",
       "    <tr>\n",
       "      <th>Cheese</th>\n",
       "      <td>105</td>\n",
       "      <td>103</td>\n",
       "      <td>103</td>\n",
       "      <td>66</td>\n",
       "    </tr>\n",
       "    <tr>\n",
       "      <th>Carcass_meat</th>\n",
       "      <td>245</td>\n",
       "      <td>227</td>\n",
       "      <td>242</td>\n",
       "      <td>267</td>\n",
       "    </tr>\n",
       "    <tr>\n",
       "      <th>Other_meat</th>\n",
       "      <td>685</td>\n",
       "      <td>803</td>\n",
       "      <td>750</td>\n",
       "      <td>586</td>\n",
       "    </tr>\n",
       "    <tr>\n",
       "      <th>Fish</th>\n",
       "      <td>147</td>\n",
       "      <td>160</td>\n",
       "      <td>122</td>\n",
       "      <td>93</td>\n",
       "    </tr>\n",
       "    <tr>\n",
       "      <th>Fats_and_oils</th>\n",
       "      <td>193</td>\n",
       "      <td>235</td>\n",
       "      <td>184</td>\n",
       "      <td>209</td>\n",
       "    </tr>\n",
       "  </tbody>\n",
       "</table>\n",
       "</div>"
      ],
      "text/plain": [
       "                England  Wales  Scotland  N.Ireland\n",
       "Cheese              105    103       103         66\n",
       "Carcass_meat        245    227       242        267\n",
       "Other_meat          685    803       750        586\n",
       "Fish                147    160       122         93\n",
       "Fats_and_oils       193    235       184        209"
      ]
     },
     "execution_count": 3,
     "metadata": {},
     "output_type": "execute_result"
    }
   ],
   "source": [
    "df.head()"
   ]
  },
  {
   "cell_type": "code",
   "execution_count": 5,
   "metadata": {},
   "outputs": [
    {
     "name": "stdout",
     "output_type": "stream",
     "text": [
      "<class 'pandas.core.frame.DataFrame'>\n",
      "Index: 17 entries, Cheese to Confectionery \n",
      "Data columns (total 4 columns):\n",
      " #   Column     Non-Null Count  Dtype\n",
      "---  ------     --------------  -----\n",
      " 0   England    17 non-null     int64\n",
      " 1   Wales      17 non-null     int64\n",
      " 2   Scotland   17 non-null     int64\n",
      " 3   N.Ireland  17 non-null     int64\n",
      "dtypes: int64(4)\n",
      "memory usage: 680.0+ bytes\n"
     ]
    }
   ],
   "source": [
    "df.info()"
   ]
  },
  {
   "cell_type": "markdown",
   "metadata": {},
   "source": [
    "**Transpose the DataFrame so that the columns are now the index.**"
   ]
  },
  {
   "cell_type": "code",
   "execution_count": 17,
   "metadata": {},
   "outputs": [],
   "source": [
    "new_df=df.transpose()"
   ]
  },
  {
   "cell_type": "code",
   "execution_count": 66,
   "metadata": {},
   "outputs": [
    {
     "data": {
      "text/html": [
       "<div>\n",
       "<style scoped>\n",
       "    .dataframe tbody tr th:only-of-type {\n",
       "        vertical-align: middle;\n",
       "    }\n",
       "\n",
       "    .dataframe tbody tr th {\n",
       "        vertical-align: top;\n",
       "    }\n",
       "\n",
       "    .dataframe thead th {\n",
       "        text-align: right;\n",
       "    }\n",
       "</style>\n",
       "<table border=\"1\" class=\"dataframe\">\n",
       "  <thead>\n",
       "    <tr style=\"text-align: right;\">\n",
       "      <th></th>\n",
       "      <th>Cheese</th>\n",
       "      <th>Carcass_meat</th>\n",
       "      <th>Other_meat</th>\n",
       "      <th>Fish</th>\n",
       "      <th>Fats_and_oils</th>\n",
       "      <th>Sugars</th>\n",
       "      <th>Fresh_potatoes</th>\n",
       "      <th>Fresh_Veg</th>\n",
       "      <th>Other_Veg</th>\n",
       "      <th>Processed_potatoes</th>\n",
       "      <th>Processed_Veg</th>\n",
       "      <th>Fresh_fruit</th>\n",
       "      <th>Cereals</th>\n",
       "      <th>Beverages</th>\n",
       "      <th>Soft_drinks</th>\n",
       "      <th>Alcoholic_drinks</th>\n",
       "      <th>Confectionery</th>\n",
       "    </tr>\n",
       "  </thead>\n",
       "  <tbody>\n",
       "    <tr>\n",
       "      <th>England</th>\n",
       "      <td>105</td>\n",
       "      <td>245</td>\n",
       "      <td>685</td>\n",
       "      <td>147</td>\n",
       "      <td>193</td>\n",
       "      <td>156</td>\n",
       "      <td>720</td>\n",
       "      <td>253</td>\n",
       "      <td>488</td>\n",
       "      <td>198</td>\n",
       "      <td>360</td>\n",
       "      <td>1102</td>\n",
       "      <td>1472</td>\n",
       "      <td>57</td>\n",
       "      <td>1374</td>\n",
       "      <td>375</td>\n",
       "      <td>54</td>\n",
       "    </tr>\n",
       "    <tr>\n",
       "      <th>Wales</th>\n",
       "      <td>103</td>\n",
       "      <td>227</td>\n",
       "      <td>803</td>\n",
       "      <td>160</td>\n",
       "      <td>235</td>\n",
       "      <td>175</td>\n",
       "      <td>874</td>\n",
       "      <td>265</td>\n",
       "      <td>570</td>\n",
       "      <td>203</td>\n",
       "      <td>365</td>\n",
       "      <td>1137</td>\n",
       "      <td>1582</td>\n",
       "      <td>73</td>\n",
       "      <td>1256</td>\n",
       "      <td>475</td>\n",
       "      <td>64</td>\n",
       "    </tr>\n",
       "    <tr>\n",
       "      <th>Scotland</th>\n",
       "      <td>103</td>\n",
       "      <td>242</td>\n",
       "      <td>750</td>\n",
       "      <td>122</td>\n",
       "      <td>184</td>\n",
       "      <td>147</td>\n",
       "      <td>566</td>\n",
       "      <td>171</td>\n",
       "      <td>418</td>\n",
       "      <td>220</td>\n",
       "      <td>337</td>\n",
       "      <td>957</td>\n",
       "      <td>1462</td>\n",
       "      <td>53</td>\n",
       "      <td>1572</td>\n",
       "      <td>458</td>\n",
       "      <td>62</td>\n",
       "    </tr>\n",
       "    <tr>\n",
       "      <th>N.Ireland</th>\n",
       "      <td>66</td>\n",
       "      <td>267</td>\n",
       "      <td>586</td>\n",
       "      <td>93</td>\n",
       "      <td>209</td>\n",
       "      <td>139</td>\n",
       "      <td>1033</td>\n",
       "      <td>143</td>\n",
       "      <td>355</td>\n",
       "      <td>187</td>\n",
       "      <td>334</td>\n",
       "      <td>674</td>\n",
       "      <td>1494</td>\n",
       "      <td>47</td>\n",
       "      <td>1506</td>\n",
       "      <td>135</td>\n",
       "      <td>41</td>\n",
       "    </tr>\n",
       "  </tbody>\n",
       "</table>\n",
       "</div>"
      ],
      "text/plain": [
       "           Cheese  Carcass_meat   Other_meat   Fish  Fats_and_oils   Sugars  \\\n",
       "England       105            245          685   147             193     156   \n",
       "Wales         103            227          803   160             235     175   \n",
       "Scotland      103            242          750   122             184     147   \n",
       "N.Ireland      66            267          586    93             209     139   \n",
       "\n",
       "           Fresh_potatoes   Fresh_Veg   Other_Veg   Processed_potatoes   \\\n",
       "England                720         253         488                  198   \n",
       "Wales                  874         265         570                  203   \n",
       "Scotland               566         171         418                  220   \n",
       "N.Ireland             1033         143         355                  187   \n",
       "\n",
       "           Processed_Veg   Fresh_fruit   Cereals   Beverages  Soft_drinks   \\\n",
       "England               360          1102      1472         57          1374   \n",
       "Wales                 365          1137      1582         73          1256   \n",
       "Scotland              337           957      1462         53          1572   \n",
       "N.Ireland             334           674      1494         47          1506   \n",
       "\n",
       "           Alcoholic_drinks   Confectionery   \n",
       "England                  375              54  \n",
       "Wales                    475              64  \n",
       "Scotland                 458              62  \n",
       "N.Ireland                135              41  "
      ]
     },
     "execution_count": 66,
     "metadata": {},
     "output_type": "execute_result"
    }
   ],
   "source": [
    "new_df"
   ]
  },
  {
   "cell_type": "markdown",
   "metadata": {},
   "source": [
    "**Create a heatmap from the DataFrame."
   ]
  },
  {
   "cell_type": "code",
   "execution_count": 10,
   "metadata": {},
   "outputs": [
    {
     "data": {
      "text/plain": [
       "<AxesSubplot:>"
      ]
     },
     "execution_count": 10,
     "metadata": {},
     "output_type": "execute_result"
    },
    {
     "data": {
      "image/png": "[encoded data removed]",
      "text/plain": [
       "<Figure size 1008x720 with 2 Axes>"
      ]
     },
     "metadata": {
      "needs_background": "light"
     },
     "output_type": "display_data"
    }
   ],
   "source": [
    "plt.figure(figsize=(14,10))\n",
    "sns.heatmap(df,annot=True)"
   ]
  },
  {
   "cell_type": "markdown",
   "metadata": {},
   "source": [
    "**Importing tf libraries for AutoEncoder"
   ]
  },
  {
   "cell_type": "code",
   "execution_count": 11,
   "metadata": {},
   "outputs": [],
   "source": [
    "from tensorflow.keras.models import Sequential\n",
    "from tensorflow.keras.layers import Dense\n",
    "from tensorflow.keras.optimizers import SGD"
   ]
  },
  {
   "cell_type": "markdown",
   "metadata": {},
   "source": [
    "**Create an encoder with compression 17 --> 8 --> 4 --> 2**"
   ]
  },
  {
   "cell_type": "code",
   "execution_count": 35,
   "metadata": {},
   "outputs": [],
   "source": [
    "encoder= Sequential()\n",
    "encoder.add(Dense(8,activation='relu',input_shape=[17]))\n",
    "encoder.add(Dense(4,activation='relu'))\n",
    "encoder.add(Dense(2,activation='relu'))\n"
   ]
  },
  {
   "cell_type": "markdown",
   "metadata": {},
   "source": [
    "**Create a decoder for 2-->4-->8-->17**"
   ]
  },
  {
   "cell_type": "code",
   "execution_count": 36,
   "metadata": {},
   "outputs": [],
   "source": [
    "decoder= Sequential()\n",
    "decoder.add(Dense(4,activation='relu'))\n",
    "decoder.add(Dense(8,activation='relu'))\n",
    "decoder.add(Dense(17,activation='relu'))"
   ]
  },
  {
   "cell_type": "markdown",
   "metadata": {},
   "source": [
    "**Combine the encoder and decoder to be an autoencoder and compile the model.**"
   ]
  },
  {
   "cell_type": "code",
   "execution_count": 37,
   "metadata": {},
   "outputs": [],
   "source": [
    "autoencoder= Sequential([encoder,decoder])"
   ]
  },
  {
   "cell_type": "code",
   "execution_count": 38,
   "metadata": {},
   "outputs": [],
   "source": [
    "autoencoder.compile(loss='mse',optimizer=SGD(lr=0.5))"
   ]
  },
  {
   "cell_type": "markdown",
   "metadata": {},
   "source": [
    "**Create a MinMaxScaler to scale the data with transposed dataframe.**"
   ]
  },
  {
   "cell_type": "code",
   "execution_count": 15,
   "metadata": {},
   "outputs": [],
   "source": [
    "from sklearn.preprocessing import MinMaxScaler"
   ]
  },
  {
   "cell_type": "code",
   "execution_count": 16,
   "metadata": {},
   "outputs": [],
   "source": [
    "scale= MinMaxScaler()"
   ]
  },
  {
   "cell_type": "code",
   "execution_count": 18,
   "metadata": {},
   "outputs": [],
   "source": [
    "scaled_df= scale.fit_transform(new_df)"
   ]
  },
  {
   "cell_type": "code",
   "execution_count": 19,
   "metadata": {},
   "outputs": [
    {
     "data": {
      "text/plain": [
       "(4, 17)"
      ]
     },
     "execution_count": 19,
     "metadata": {},
     "output_type": "execute_result"
    }
   ],
   "source": [
    "scaled_df.shape"
   ]
  },
  {
   "cell_type": "code",
   "execution_count": null,
   "metadata": {},
   "outputs": [],
   "source": []
  },
  {
   "cell_type": "markdown",
   "metadata": {},
   "source": [
    "**Fit the autoencoder to the scaled data for 15 epochs.**"
   ]
  },
  {
   "cell_type": "code",
   "execution_count": 39,
   "metadata": {},
   "outputs": [
    {
     "name": "stdout",
     "output_type": "stream",
     "text": [
      "Train on 4 samples\n",
      "Epoch 1/15\n",
      "4/4 [==============================] - 0s 118ms/sample - loss: 0.4112\n",
      "Epoch 2/15\n",
      "4/4 [==============================] - 0s 566us/sample - loss: 0.3882\n",
      "Epoch 3/15\n",
      "4/4 [==============================] - 0s 638us/sample - loss: 0.3451\n",
      "Epoch 4/15\n",
      "4/4 [==============================] - 0s 626us/sample - loss: 0.2893\n",
      "Epoch 5/15\n",
      "4/4 [==============================] - 0s 589us/sample - loss: 0.2406\n",
      "Epoch 6/15\n",
      "4/4 [==============================] - 0s 784us/sample - loss: 0.2174\n",
      "Epoch 7/15\n",
      "4/4 [==============================] - 0s 826us/sample - loss: 0.2059\n",
      "Epoch 8/15\n",
      "4/4 [==============================] - 0s 767us/sample - loss: 0.1987\n",
      "Epoch 9/15\n",
      "4/4 [==============================] - 0s 732us/sample - loss: 0.1938\n",
      "Epoch 10/15\n",
      "4/4 [==============================] - 0s 974us/sample - loss: 0.1906\n",
      "Epoch 11/15\n",
      "4/4 [==============================] - 0s 876us/sample - loss: 0.1889\n",
      "Epoch 12/15\n",
      "4/4 [==============================] - 0s 784us/sample - loss: 0.1875\n",
      "Epoch 13/15\n",
      "4/4 [==============================] - 0s 653us/sample - loss: 0.1865\n",
      "Epoch 14/15\n",
      "4/4 [==============================] - 0s 800us/sample - loss: 0.1856\n",
      "Epoch 15/15\n",
      "4/4 [==============================] - 0s 719us/sample - loss: 0.1849\n"
     ]
    },
    {
     "data": {
      "text/plain": [
       "<tensorflow.python.keras.callbacks.History at 0x1a4ea4edd8>"
      ]
     },
     "execution_count": 39,
     "metadata": {},
     "output_type": "execute_result"
    }
   ],
   "source": [
    "autoencoder.fit(scaled_df,scaled_df,epochs=15)"
   ]
  },
  {
   "cell_type": "markdown",
   "metadata": {},
   "source": [
    "**Run the scaled data through only the encoder and predict the reduced dimensionalty output.**"
   ]
  },
  {
   "cell_type": "code",
   "execution_count": 40,
   "metadata": {},
   "outputs": [
    {
     "data": {
      "text/plain": [
       "array([[ 1.474374  , -0.        ],\n",
       "       [ 2.2060401 , -0.        ],\n",
       "       [ 1.3162364 , -0.        ],\n",
       "       [ 0.05906637, -0.        ]], dtype=float32)"
      ]
     },
     "execution_count": 40,
     "metadata": {},
     "output_type": "execute_result"
    }
   ],
   "source": [
    "encoder.predict(scaled_df)"
   ]
  },
  {
   "cell_type": "code",
   "execution_count": 46,
   "metadata": {},
   "outputs": [],
   "source": [
    "predicted_df= pd.DataFrame(encoder.predict(scaled_df),index=new_df.index)"
   ]
  },
  {
   "cell_type": "code",
   "execution_count": 48,
   "metadata": {},
   "outputs": [],
   "source": [
    "predicted_df.columns=['Dim1','Dim2']"
   ]
  },
  {
   "cell_type": "code",
   "execution_count": 49,
   "metadata": {},
   "outputs": [
    {
     "data": {
      "text/html": [
       "<div>\n",
       "<style scoped>\n",
       "    .dataframe tbody tr th:only-of-type {\n",
       "        vertical-align: middle;\n",
       "    }\n",
       "\n",
       "    .dataframe tbody tr th {\n",
       "        vertical-align: top;\n",
       "    }\n",
       "\n",
       "    .dataframe thead th {\n",
       "        text-align: right;\n",
       "    }\n",
       "</style>\n",
       "<table border=\"1\" class=\"dataframe\">\n",
       "  <thead>\n",
       "    <tr style=\"text-align: right;\">\n",
       "      <th></th>\n",
       "      <th>Dim1</th>\n",
       "      <th>Dim2</th>\n",
       "    </tr>\n",
       "  </thead>\n",
       "  <tbody>\n",
       "    <tr>\n",
       "      <th>England</th>\n",
       "      <td>1.474374</td>\n",
       "      <td>-0.0</td>\n",
       "    </tr>\n",
       "    <tr>\n",
       "      <th>Wales</th>\n",
       "      <td>2.206040</td>\n",
       "      <td>-0.0</td>\n",
       "    </tr>\n",
       "    <tr>\n",
       "      <th>Scotland</th>\n",
       "      <td>1.316236</td>\n",
       "      <td>-0.0</td>\n",
       "    </tr>\n",
       "    <tr>\n",
       "      <th>N.Ireland</th>\n",
       "      <td>0.059066</td>\n",
       "      <td>-0.0</td>\n",
       "    </tr>\n",
       "  </tbody>\n",
       "</table>\n",
       "</div>"
      ],
      "text/plain": [
       "               Dim1  Dim2\n",
       "England    1.474374  -0.0\n",
       "Wales      2.206040  -0.0\n",
       "Scotland   1.316236  -0.0\n",
       "N.Ireland  0.059066  -0.0"
      ]
     },
     "execution_count": 49,
     "metadata": {},
     "output_type": "execute_result"
    }
   ],
   "source": [
    "predicted_df"
   ]
  },
  {
   "cell_type": "markdown",
   "metadata": {},
   "source": [
    "**Plot out these results in a scatterplot, labeled by their respective country**"
   ]
  },
  {
   "cell_type": "code",
   "execution_count": 65,
   "metadata": {},
   "outputs": [
    {
     "data": {
      "text/plain": [
       "<AxesSubplot:xlabel='Dim2', ylabel='Dim1'>"
      ]
     },
     "execution_count": 65,
     "metadata": {},
     "output_type": "execute_result"
    },
    {
     "data": {
      "image/png": "[encoded data removed]",
      "text/plain": [
       "<Figure size 432x288 with 1 Axes>"
      ]
     },
     "metadata": {
      "needs_background": "light"
     },
     "output_type": "display_data"
    }
   ],
   "source": [
    "sns.scatterplot(x='Dim2',y='Dim1',data=predicted_df,hue=predicted_df.index)"
   ]
  },
  {
   "cell_type": "markdown",
   "metadata": {},
   "source": [
    " Once we go back and look at the data in the table, this makes sense: the Northern Irish eat way more grams of fresh potatoes and way fewer of fresh fruits, cheese, fish and alcoholic drinks. It's a good sign that structure we've visualized reflects a big fact of real-world geography: Northern Ireland is the only of the four countries not on the island of Great Britain.)"
   ]
  },
  {
   "cell_type": "code",
   "execution_count": null,
   "metadata": {},
   "outputs": [],
   "source": []
  }
 ],
 "metadata": {
  "kernelspec": {
   "display_name": "Python 3",
   "language": "python",
   "name": "python3"
  },
  "language_info": {
   "codemirror_mode": {
    "name": "ipython",
    "version": 3
   },
   "file_extension": ".py",
   "mimetype": "text/x-python",
   "name": "python",
   "nbconvert_exporter": "python",
   "pygments_lexer": "ipython3",
   "version": "3.6.10"
  }
 },
 "nbformat": 4,
 "nbformat_minor": 2
}
