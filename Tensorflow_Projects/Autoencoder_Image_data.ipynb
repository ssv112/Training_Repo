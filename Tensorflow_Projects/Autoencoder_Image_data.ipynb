{
  "nbformat": 4,
  "nbformat_minor": 0,
  "metadata": {
    "kernelspec": {
      "display_name": "Python 3",
      "language": "python",
      "name": "python3"
    },
    "language_info": {
      "codemirror_mode": {
        "name": "ipython",
        "version": 3
      },
      "file_extension": ".py",
      "mimetype": "text/x-python",
      "name": "python",
      "nbconvert_exporter": "python",
      "pygments_lexer": "ipython3",
      "version": "3.6.10"
    },
    "colab": {
      "name": "Autoencoder_Image_data.ipynb",
      "provenance": [],
      "include_colab_link": true
    },
    "accelerator": "GPU"
  },
  "cells": [
    {
      "cell_type": "markdown",
      "metadata": {
        "id": "view-in-github",
        "colab_type": "text"
      },
      "source": [
        "<a href=\"https://colab.research.google.com/github/ssv112/Training_Repo/blob/master/Tensorflow_Projects/Autoencoder_Image_data.ipynb\" target=\"_parent\"><img src=\"https://colab.research.google.com/assets/colab-badge.svg\" alt=\"Open In Colab\"/></a>"
      ]
    },
    {
      "cell_type": "markdown",
      "metadata": {
        "id": "FFLw_Hh9Jmqd",
        "colab_type": "text"
      },
      "source": [
        "In this notebook.. Applications of Autoencoders are explained. Mnist Image data is used to show to use cases of Autoencoders:\n",
        "1. Reducing the dimensions from 784 to 25 parameters and still keeping most of the important features\n",
        "\n",
        "2. Noise Removal from Image Data"
      ]
    },
    {
      "cell_type": "code",
      "metadata": {
        "id": "q953ZuAOJnZw",
        "colab_type": "code",
        "colab": {}
      },
      "source": [
        "import numpy as np\n",
        "import pandas as pd\n",
        "import matplotlib.pyplot as plt\n",
        "import seaborn as sns\n",
        "\n",
        "% matplotlib inline"
      ],
      "execution_count": 40,
      "outputs": []
    },
    {
      "cell_type": "code",
      "metadata": {
        "id": "2C4e0eZi4uSP",
        "colab_type": "code",
        "colab": {}
      },
      "source": [
        "from tensorflow.keras.datasets import mnist"
      ],
      "execution_count": 2,
      "outputs": []
    },
    {
      "cell_type": "code",
      "metadata": {
        "id": "CGzf6CMt4uSS",
        "colab_type": "code",
        "colab": {
          "base_uri": "https://localhost:8080/",
          "height": 51
        },
        "outputId": "6543d860-9275-4d4c-d8f2-8739191903ba"
      },
      "source": [
        "(X_train,y_train),(X_test,y_test)=mnist.load_data()"
      ],
      "execution_count": 3,
      "outputs": [
        {
          "output_type": "stream",
          "text": [
            "Downloading data from https://storage.googleapis.com/tensorflow/tf-keras-datasets/mnist.npz\n",
            "11493376/11490434 [==============================] - 0s 0us/step\n"
          ],
          "name": "stdout"
        }
      ]
    },
    {
      "cell_type": "code",
      "metadata": {
        "id": "qzaGV7kw4uSV",
        "colab_type": "code",
        "colab": {
          "base_uri": "https://localhost:8080/",
          "height": 282
        },
        "outputId": "6ad8c92d-1951-4e15-8e6e-e2397b474a36"
      },
      "source": [
        "plt.imshow(X_train[0])"
      ],
      "execution_count": 4,
      "outputs": [
        {
          "output_type": "execute_result",
          "data": {
            "text/plain": [
              "<matplotlib.image.AxesImage at 0x7fd9c4f88780>"
            ]
          },
          "metadata": {
            "tags": []
          },
          "execution_count": 4
        },
        {
          "output_type": "display_data",
          "data": {
            "image/png": "[encoded data removed]",
            "text/plain": [
              "<Figure size 432x288 with 1 Axes>"
            ]
          },
          "metadata": {
            "tags": [],
            "needs_background": "light"
          }
        }
      ]
    },
    {
      "cell_type": "code",
      "metadata": {
        "id": "CuhYq_mC4uSX",
        "colab_type": "code",
        "colab": {
          "base_uri": "https://localhost:8080/",
          "height": 34
        },
        "outputId": "3094dd1c-4777-4d24-af2f-103a81f4d2b6"
      },
      "source": [
        "y_train[0]"
      ],
      "execution_count": 5,
      "outputs": [
        {
          "output_type": "execute_result",
          "data": {
            "text/plain": [
              "5"
            ]
          },
          "metadata": {
            "tags": []
          },
          "execution_count": 5
        }
      ]
    },
    {
      "cell_type": "code",
      "metadata": {
        "id": "WqFXdAHd4uSa",
        "colab_type": "code",
        "colab": {}
      },
      "source": [
        "X_train= X_train/255\n",
        "X_test= X_test/255\n"
      ],
      "execution_count": 6,
      "outputs": []
    },
    {
      "cell_type": "code",
      "metadata": {
        "id": "FIti4USZ4uSb",
        "colab_type": "code",
        "colab": {}
      },
      "source": [
        "from tensorflow.keras.models import Sequential\n",
        "from tensorflow.keras.layers import Dense,Flatten,Reshape\n",
        "\n",
        "from tensorflow.keras.optimizers import SGD"
      ],
      "execution_count": 7,
      "outputs": []
    },
    {
      "cell_type": "code",
      "metadata": {
        "id": "ZpnPZbU-4uSe",
        "colab_type": "code",
        "colab": {}
      },
      "source": [
        "#784 to 392"
      ],
      "execution_count": 8,
      "outputs": []
    },
    {
      "cell_type": "code",
      "metadata": {
        "id": "sVpUsG404uSg",
        "colab_type": "code",
        "colab": {}
      },
      "source": [
        "encoder= Sequential()\n",
        "encoder.add(Flatten(input_shape=[28,28]))\n",
        "\n",
        "encoder.add(Dense(400,activation='relu'))\n",
        "encoder.add(Dense(200,activation='relu'))\n",
        "encoder.add(Dense(100,activation='relu'))\n",
        "encoder.add(Dense(50,activation='relu'))\n",
        "encoder.add(Dense(25,activation='relu'))\n",
        "\n"
      ],
      "execution_count": 9,
      "outputs": []
    },
    {
      "cell_type": "code",
      "metadata": {
        "id": "qIYUUeJ64uSi",
        "colab_type": "code",
        "colab": {}
      },
      "source": [
        "decoder= Sequential()\n",
        "\n",
        "decoder.add(Dense(50,activation='relu',input_shape=[25]))\n",
        "decoder.add(Dense(100,activation='relu'))\n",
        "decoder.add(Dense(200,activation='relu'))\n",
        "decoder.add(Dense(400,activation='relu'))\n",
        "decoder.add(Dense(784,activation='sigmoid'))\n",
        "decoder.add(Reshape([28,28]))\n",
        "\n"
      ],
      "execution_count": 10,
      "outputs": []
    },
    {
      "cell_type": "code",
      "metadata": {
        "id": "ULY1-YN84uSk",
        "colab_type": "code",
        "colab": {}
      },
      "source": [
        "autoencoder=Sequential([encoder,decoder])"
      ],
      "execution_count": 11,
      "outputs": []
    },
    {
      "cell_type": "code",
      "metadata": {
        "id": "O5hBhZxx4uSl",
        "colab_type": "code",
        "colab": {}
      },
      "source": [
        "autoencoder.compile(loss='binary_crossentropy',optimizer=SGD(lr=1.5),metrics=['accuracy'])"
      ],
      "execution_count": 12,
      "outputs": []
    },
    {
      "cell_type": "code",
      "metadata": {
        "id": "xHSN8tn84uSn",
        "colab_type": "code",
        "colab": {
          "base_uri": "https://localhost:8080/",
          "height": 204
        },
        "outputId": "a7c108b2-6551-4e03-8ff9-86dcb5e244c4"
      },
      "source": [
        "autoencoder.fit(X_train,X_train,epochs=5,validation_data=(X_test,X_test))"
      ],
      "execution_count": 15,
      "outputs": [
        {
          "output_type": "stream",
          "text": [
            "Epoch 1/5\n",
            "1875/1875 [==============================] - 5s 3ms/step - loss: 0.1368 - accuracy: 0.2319 - val_loss: 0.1344 - val_accuracy: 0.2388\n",
            "Epoch 2/5\n",
            "1875/1875 [==============================] - 5s 3ms/step - loss: 0.1334 - accuracy: 0.2353 - val_loss: 0.1275 - val_accuracy: 0.2402\n",
            "Epoch 3/5\n",
            "1875/1875 [==============================] - 5s 3ms/step - loss: 0.1290 - accuracy: 0.2392 - val_loss: 0.1268 - val_accuracy: 0.2424\n",
            "Epoch 4/5\n",
            "1875/1875 [==============================] - 5s 3ms/step - loss: 0.1255 - accuracy: 0.2426 - val_loss: 0.1224 - val_accuracy: 0.2399\n",
            "Epoch 5/5\n",
            "1875/1875 [==============================] - 5s 3ms/step - loss: 0.1226 - accuracy: 0.2462 - val_loss: 0.1198 - val_accuracy: 0.2453\n"
          ],
          "name": "stdout"
        },
        {
          "output_type": "execute_result",
          "data": {
            "text/plain": [
              "<tensorflow.python.keras.callbacks.History at 0x7fd96832cb38>"
            ]
          },
          "metadata": {
            "tags": []
          },
          "execution_count": 15
        }
      ]
    },
    {
      "cell_type": "code",
      "metadata": {
        "id": "QQYKiiMF4uSr",
        "colab_type": "code",
        "colab": {}
      },
      "source": [
        "passed_images= autoencoder.predict(X_test[:10])"
      ],
      "execution_count": 16,
      "outputs": []
    },
    {
      "cell_type": "code",
      "metadata": {
        "id": "ej9aGEsS6IbS",
        "colab_type": "code",
        "colab": {
          "base_uri": "https://localhost:8080/",
          "height": 282
        },
        "outputId": "86434598-ffe1-47ab-b70a-5fe7dff6b0a6"
      },
      "source": [
        "plt.imshow(passed_images[0])"
      ],
      "execution_count": 18,
      "outputs": [
        {
          "output_type": "execute_result",
          "data": {
            "text/plain": [
              "<matplotlib.image.AxesImage at 0x7fd9475f7cf8>"
            ]
          },
          "metadata": {
            "tags": []
          },
          "execution_count": 18
        },
        {
          "output_type": "display_data",
          "data": {
            "image/png": "[encoded data removed]",
            "text/plain": [
              "<Figure size 432x288 with 1 Axes>"
            ]
          },
          "metadata": {
            "tags": [],
            "needs_background": "light"
          }
        }
      ]
    },
    {
      "cell_type": "code",
      "metadata": {
        "id": "UZDKBGHz6KoO",
        "colab_type": "code",
        "colab": {
          "base_uri": "https://localhost:8080/",
          "height": 282
        },
        "outputId": "e573d9e5-27e1-4ff3-afa2-bf5a7c2b11bd"
      },
      "source": [
        "plt.imshow(X_test[0])"
      ],
      "execution_count": 19,
      "outputs": [
        {
          "output_type": "execute_result",
          "data": {
            "text/plain": [
              "<matplotlib.image.AxesImage at 0x7fd947565e48>"
            ]
          },
          "metadata": {
            "tags": []
          },
          "execution_count": 19
        },
        {
          "output_type": "display_data",
          "data": {
            "image/png": "[encoded data removed]",
            "text/plain": [
              "<Figure size 432x288 with 1 Axes>"
            ]
          },
          "metadata": {
            "tags": [],
            "needs_background": "light"
          }
        }
      ]
    },
    {
      "cell_type": "code",
      "metadata": {
        "id": "1j3mwUgz6fhT",
        "colab_type": "code",
        "colab": {}
      },
      "source": [
        "from tensorflow.keras.layers import GaussianNoise"
      ],
      "execution_count": 20,
      "outputs": []
    },
    {
      "cell_type": "code",
      "metadata": {
        "id": "BDNVTmJzAbxA",
        "colab_type": "code",
        "colab": {}
      },
      "source": [
        "sample= GaussianNoise(0.2)"
      ],
      "execution_count": 21,
      "outputs": []
    },
    {
      "cell_type": "code",
      "metadata": {
        "id": "JdzLS98wAe6I",
        "colab_type": "code",
        "colab": {
          "base_uri": "https://localhost:8080/",
          "height": 139
        },
        "outputId": "43ecac35-fe1f-4d9e-b53f-d7289f21d485"
      },
      "source": [
        "noisy= sample(X_test[:10],training=True)"
      ],
      "execution_count": 22,
      "outputs": [
        {
          "output_type": "stream",
          "text": [
            "WARNING:tensorflow:Layer gaussian_noise is casting an input tensor from dtype float64 to the layer's dtype of float32, which is new behavior in TensorFlow 2.  The layer has dtype float32 because its dtype defaults to floatx.\n",
            "\n",
            "If you intended to run this layer in float32, you can safely ignore this warning. If in doubt, this warning is likely only an issue if you are porting a TensorFlow 1.X model to TensorFlow 2.\n",
            "\n",
            "To change all layers to have dtype float64 by default, call `tf.keras.backend.set_floatx('float64')`. To change just this layer, pass dtype='float64' to the layer constructor. If you are the author of this layer, you can disable autocasting by passing autocast=False to the base Layer constructor.\n",
            "\n"
          ],
          "name": "stdout"
        }
      ]
    },
    {
      "cell_type": "code",
      "metadata": {
        "id": "7Q26ZINYAnCL",
        "colab_type": "code",
        "colab": {
          "base_uri": "https://localhost:8080/",
          "height": 547
        },
        "outputId": "ddd3ecf9-c663-456c-8dc9-8ec7693acc32"
      },
      "source": [
        "n=0\n",
        "\n",
        "print(\"original Image\")\n",
        "plt.imshow(X_test[0])\n",
        "plt.show()\n",
        "print(\"Noisy Image\")\n",
        "plt.imshow(noisy[0])\n",
        "plt.show()\n",
        "\n"
      ],
      "execution_count": 27,
      "outputs": [
        {
          "output_type": "stream",
          "text": [
            "original Image\n"
          ],
          "name": "stdout"
        },
        {
          "output_type": "display_data",
          "data": {
            "image/png": "[encoded data removed]",
            "text/plain": [
              "<Figure size 432x288 with 1 Axes>"
            ]
          },
          "metadata": {
            "tags": [],
            "needs_background": "light"
          }
        },
        {
          "output_type": "stream",
          "text": [
            "Noisy Image\n"
          ],
          "name": "stdout"
        },
        {
          "output_type": "display_data",
          "data": {
            "image/png": "[encoded data removed]",
            "text/plain": [
              "<Figure size 432x288 with 1 Axes>"
            ]
          },
          "metadata": {
            "tags": [],
            "needs_background": "light"
          }
        }
      ]
    },
    {
      "cell_type": "code",
      "metadata": {
        "id": "XMWhjkY4AwSK",
        "colab_type": "code",
        "colab": {}
      },
      "source": [
        "import tensorflow as tf"
      ],
      "execution_count": 29,
      "outputs": []
    },
    {
      "cell_type": "code",
      "metadata": {
        "id": "BplsZ8UcBJl8",
        "colab_type": "code",
        "colab": {}
      },
      "source": [
        "tf.random.set_seed(101)\n",
        "np.random.seed(101)\n",
        "encoder= Sequential()\n",
        "encoder.add(Flatten(input_shape=[28,28]))\n",
        "encoder.add(GaussianNoise(0.2))\n",
        "\n",
        "encoder.add(Dense(400,activation='relu'))\n",
        "encoder.add(Dense(200,activation='relu'))\n",
        "encoder.add(Dense(100,activation='relu'))\n",
        "encoder.add(Dense(50,activation='relu'))\n",
        "encoder.add(Dense(25,activation='relu'))"
      ],
      "execution_count": 30,
      "outputs": []
    },
    {
      "cell_type": "code",
      "metadata": {
        "id": "hRCFpvMiCVn3",
        "colab_type": "code",
        "colab": {}
      },
      "source": [
        "decoder= Sequential()\n",
        "\n",
        "decoder.add(Dense(50,activation='relu',input_shape=[25]))\n",
        "decoder.add(Dense(100,activation='relu'))\n",
        "decoder.add(Dense(200,activation='relu'))\n",
        "decoder.add(Dense(400,activation='relu'))\n",
        "decoder.add(Dense(784,activation='sigmoid'))\n",
        "decoder.add(Reshape([28,28]))\n"
      ],
      "execution_count": 31,
      "outputs": []
    },
    {
      "cell_type": "code",
      "metadata": {
        "id": "tulA5HYXCYWG",
        "colab_type": "code",
        "colab": {}
      },
      "source": [
        "noiseremover= Sequential([encoder,decoder])\n",
        "\n",
        "noiseremover.compile(loss='binary_crossentropy',optimizer='adam',metrics=['accuracy'])"
      ],
      "execution_count": 32,
      "outputs": []
    },
    {
      "cell_type": "code",
      "metadata": {
        "id": "OjHARSN5DYiC",
        "colab_type": "code",
        "colab": {
          "base_uri": "https://localhost:8080/",
          "height": 306
        },
        "outputId": "b4ea5e59-2697-4d05-e5cd-3592849407ab"
      },
      "source": [
        "noiseremover.fit(X_train,X_train,epochs=8,validation_data=(X_test,X_test))"
      ],
      "execution_count": 34,
      "outputs": [
        {
          "output_type": "stream",
          "text": [
            "Epoch 1/8\n",
            "1875/1875 [==============================] - 6s 3ms/step - loss: 0.1696 - accuracy: 0.1820 - val_loss: 0.1344 - val_accuracy: 0.2253\n",
            "Epoch 2/8\n",
            "1875/1875 [==============================] - 6s 3ms/step - loss: 0.1295 - accuracy: 0.2308 - val_loss: 0.1197 - val_accuracy: 0.2429\n",
            "Epoch 3/8\n",
            "1875/1875 [==============================] - 6s 3ms/step - loss: 0.1206 - accuracy: 0.2446 - val_loss: 0.1145 - val_accuracy: 0.2573\n",
            "Epoch 4/8\n",
            "1875/1875 [==============================] - 6s 3ms/step - loss: 0.1154 - accuracy: 0.2544 - val_loss: 0.1103 - val_accuracy: 0.2649\n",
            "Epoch 5/8\n",
            "1875/1875 [==============================] - 6s 3ms/step - loss: 0.1116 - accuracy: 0.2615 - val_loss: 0.1073 - val_accuracy: 0.2612\n",
            "Epoch 6/8\n",
            "1875/1875 [==============================] - 6s 3ms/step - loss: 0.1091 - accuracy: 0.2656 - val_loss: 0.1051 - val_accuracy: 0.2629\n",
            "Epoch 7/8\n",
            "1875/1875 [==============================] - 6s 3ms/step - loss: 0.1071 - accuracy: 0.2692 - val_loss: 0.1035 - val_accuracy: 0.2661\n",
            "Epoch 8/8\n",
            "1875/1875 [==============================] - 6s 3ms/step - loss: 0.1056 - accuracy: 0.2727 - val_loss: 0.1017 - val_accuracy: 0.2800\n"
          ],
          "name": "stdout"
        },
        {
          "output_type": "execute_result",
          "data": {
            "text/plain": [
              "<tensorflow.python.keras.callbacks.History at 0x7fd9b0146550>"
            ]
          },
          "metadata": {
            "tags": []
          },
          "execution_count": 34
        }
      ]
    },
    {
      "cell_type": "code",
      "metadata": {
        "id": "JseF2ChiDZtn",
        "colab_type": "code",
        "colab": {}
      },
      "source": [
        "ten_noisy_images= sample(X_test[:10],training=True)"
      ],
      "execution_count": 35,
      "outputs": []
    },
    {
      "cell_type": "code",
      "metadata": {
        "id": "j4o2jYc7D6Gz",
        "colab_type": "code",
        "colab": {}
      },
      "source": [
        "denoised= noiseremover(ten_noisy_images)"
      ],
      "execution_count": 36,
      "outputs": []
    },
    {
      "cell_type": "code",
      "metadata": {
        "id": "jL6cx5ghD_uk",
        "colab_type": "code",
        "colab": {
          "base_uri": "https://localhost:8080/",
          "height": 812
        },
        "outputId": "b24d9e39-9b7c-4e82-965b-951d107a8ed7"
      },
      "source": [
        "n=0\n",
        "print('Original Image')\n",
        "plt.imshow(X_test[0])\n",
        "\n",
        "plt.show()\n",
        "\n",
        "print('Noisy Image')\n",
        "plt.imshow(ten_noisy_images[0])\n",
        "plt.show()\n",
        "\n",
        "print('Image after Noise Removal')\n",
        "plt.imshow(denoised[0])\n",
        "plt.show()\n",
        "\n"
      ],
      "execution_count": 37,
      "outputs": [
        {
          "output_type": "stream",
          "text": [
            "Original Image\n"
          ],
          "name": "stdout"
        },
        {
          "output_type": "display_data",
          "data": {
            "image/png": "[encoded data removed]",
            "text/plain": [
              "<Figure size 432x288 with 1 Axes>"
            ]
          },
          "metadata": {
            "tags": [],
            "needs_background": "light"
          }
        },
        {
          "output_type": "stream",
          "text": [
            "Noisy Image\n"
          ],
          "name": "stdout"
        },
        {
          "output_type": "display_data",
          "data": {
            "image/png": "[encoded data removed]",
            "text/plain": [
              "<Figure size 432x288 with 1 Axes>"
            ]
          },
          "metadata": {
            "tags": [],
            "needs_background": "light"
          }
        },
        {
          "output_type": "stream",
          "text": [
            "Image after Noise Removal\n"
          ],
          "name": "stdout"
        },
        {
          "output_type": "display_data",
          "data": {
            "image/png": "[encoded data removed]",
            "text/plain": [
              "<Figure size 432x288 with 1 Axes>"
            ]
          },
          "metadata": {
            "tags": [],
            "needs_background": "light"
          }
        }
      ]
    },
    {
      "cell_type": "code",
      "metadata": {
        "id": "hCsRCa0EEWic",
        "colab_type": "code",
        "colab": {}
      },
      "source": [
        ""
      ],
      "execution_count": null,
      "outputs": []
    }
  ]
}